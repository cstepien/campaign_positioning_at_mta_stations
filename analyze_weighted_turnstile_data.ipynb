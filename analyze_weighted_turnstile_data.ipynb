{
 "cells": [
  {
   "cell_type": "code",
   "execution_count": 1,
   "metadata": {},
   "outputs": [],
   "source": [
    "import pandas as pd\n",
    "import numpy as np\n",
    "import pickle\n",
    "import matplotlib.pyplot as plt\n",
    "from copy import deepcopy\n",
    "\n",
    "%matplotlib inline"
   ]
  },
  {
   "cell_type": "markdown",
   "metadata": {},
   "source": [
    "**Import pickeled data file with 4hr interval entries and exits per turnstile**"
   ]
  },
  {
   "cell_type": "code",
   "execution_count": 4,
   "metadata": {},
   "outputs": [],
   "source": [
    "with open('spatial_4hr_interval_mta.pickle','rb') as read_file:\n",
    "    time_series_df = pickle.load(read_file)"
   ]
  },
  {
   "cell_type": "code",
   "execution_count": 10,
   "metadata": {},
   "outputs": [
    {
     "data": {
      "text/plain": [
       "(2519821, 16)"
      ]
     },
     "execution_count": 10,
     "metadata": {},
     "output_type": "execute_result"
    }
   ],
   "source": [
    "time_series_df.shape"
   ]
  },
  {
   "cell_type": "code",
   "execution_count": 5,
   "metadata": {},
   "outputs": [
    {
     "data": {
      "text/html": [
       "<div>\n",
       "<style scoped>\n",
       "    .dataframe tbody tr th:only-of-type {\n",
       "        vertical-align: middle;\n",
       "    }\n",
       "\n",
       "    .dataframe tbody tr th {\n",
       "        vertical-align: top;\n",
       "    }\n",
       "\n",
       "    .dataframe thead th {\n",
       "        text-align: right;\n",
       "    }\n",
       "</style>\n",
       "<table border=\"1\" class=\"dataframe\">\n",
       "  <thead>\n",
       "    <tr style=\"text-align: right;\">\n",
       "      <th></th>\n",
       "      <th>C/A</th>\n",
       "      <th>UNIT</th>\n",
       "      <th>SCP</th>\n",
       "      <th>STATION</th>\n",
       "      <th>LINENAME</th>\n",
       "      <th>ENTRIES</th>\n",
       "      <th>EXITS</th>\n",
       "      <th>DATE_TIME</th>\n",
       "      <th>DATE</th>\n",
       "      <th>DESC</th>\n",
       "      <th>TIME_INTERVAL</th>\n",
       "      <th>ENTRY_DIFF</th>\n",
       "      <th>EXIT_DIFF</th>\n",
       "      <th>LAT</th>\n",
       "      <th>LONG</th>\n",
       "      <th>ZIPCODE</th>\n",
       "    </tr>\n",
       "  </thead>\n",
       "  <tbody>\n",
       "    <tr>\n",
       "      <th>0</th>\n",
       "      <td>A002</td>\n",
       "      <td>R051</td>\n",
       "      <td>02-00-00</td>\n",
       "      <td>59 ST</td>\n",
       "      <td>NQR456W</td>\n",
       "      <td>6566470.0</td>\n",
       "      <td>2224053.0</td>\n",
       "      <td>2018-03-31 03:59:00</td>\n",
       "      <td>2018-03-31</td>\n",
       "      <td>REGULAR</td>\n",
       "      <td>04:00:00</td>\n",
       "      <td>7.0</td>\n",
       "      <td>3.0</td>\n",
       "      <td>40.762796</td>\n",
       "      <td>-73.967686</td>\n",
       "      <td>10022</td>\n",
       "    </tr>\n",
       "    <tr>\n",
       "      <th>1</th>\n",
       "      <td>A002</td>\n",
       "      <td>R051</td>\n",
       "      <td>02-00-00</td>\n",
       "      <td>59 ST</td>\n",
       "      <td>NQR456W</td>\n",
       "      <td>6566470.0</td>\n",
       "      <td>2224053.0</td>\n",
       "      <td>2018-03-31 07:59:00</td>\n",
       "      <td>2018-03-31</td>\n",
       "      <td>REGULAR</td>\n",
       "      <td>04:00:00</td>\n",
       "      <td>0.0</td>\n",
       "      <td>0.0</td>\n",
       "      <td>40.762796</td>\n",
       "      <td>-73.967686</td>\n",
       "      <td>10022</td>\n",
       "    </tr>\n",
       "    <tr>\n",
       "      <th>2</th>\n",
       "      <td>A002</td>\n",
       "      <td>R051</td>\n",
       "      <td>02-00-00</td>\n",
       "      <td>59 ST</td>\n",
       "      <td>NQR456W</td>\n",
       "      <td>6566470.0</td>\n",
       "      <td>2224055.0</td>\n",
       "      <td>2018-03-31 11:59:00</td>\n",
       "      <td>2018-03-31</td>\n",
       "      <td>REGULAR</td>\n",
       "      <td>04:00:00</td>\n",
       "      <td>0.0</td>\n",
       "      <td>2.0</td>\n",
       "      <td>40.762796</td>\n",
       "      <td>-73.967686</td>\n",
       "      <td>10022</td>\n",
       "    </tr>\n",
       "    <tr>\n",
       "      <th>3</th>\n",
       "      <td>A002</td>\n",
       "      <td>R051</td>\n",
       "      <td>02-00-00</td>\n",
       "      <td>59 ST</td>\n",
       "      <td>NQR456W</td>\n",
       "      <td>6566470.0</td>\n",
       "      <td>2224055.0</td>\n",
       "      <td>2018-03-31 15:59:00</td>\n",
       "      <td>2018-03-31</td>\n",
       "      <td>REGULAR</td>\n",
       "      <td>04:00:00</td>\n",
       "      <td>0.0</td>\n",
       "      <td>0.0</td>\n",
       "      <td>40.762796</td>\n",
       "      <td>-73.967686</td>\n",
       "      <td>10022</td>\n",
       "    </tr>\n",
       "    <tr>\n",
       "      <th>4</th>\n",
       "      <td>A002</td>\n",
       "      <td>R051</td>\n",
       "      <td>02-00-00</td>\n",
       "      <td>59 ST</td>\n",
       "      <td>NQR456W</td>\n",
       "      <td>6566470.0</td>\n",
       "      <td>2224055.0</td>\n",
       "      <td>2018-03-31 19:59:00</td>\n",
       "      <td>2018-03-31</td>\n",
       "      <td>REGULAR</td>\n",
       "      <td>04:00:00</td>\n",
       "      <td>0.0</td>\n",
       "      <td>0.0</td>\n",
       "      <td>40.762796</td>\n",
       "      <td>-73.967686</td>\n",
       "      <td>10022</td>\n",
       "    </tr>\n",
       "  </tbody>\n",
       "</table>\n",
       "</div>"
      ],
      "text/plain": [
       "    C/A  UNIT       SCP STATION LINENAME    ENTRIES      EXITS  \\\n",
       "0  A002  R051  02-00-00   59 ST  NQR456W  6566470.0  2224053.0   \n",
       "1  A002  R051  02-00-00   59 ST  NQR456W  6566470.0  2224053.0   \n",
       "2  A002  R051  02-00-00   59 ST  NQR456W  6566470.0  2224055.0   \n",
       "3  A002  R051  02-00-00   59 ST  NQR456W  6566470.0  2224055.0   \n",
       "4  A002  R051  02-00-00   59 ST  NQR456W  6566470.0  2224055.0   \n",
       "\n",
       "            DATE_TIME        DATE     DESC TIME_INTERVAL  ENTRY_DIFF  \\\n",
       "0 2018-03-31 03:59:00  2018-03-31  REGULAR      04:00:00         7.0   \n",
       "1 2018-03-31 07:59:00  2018-03-31  REGULAR      04:00:00         0.0   \n",
       "2 2018-03-31 11:59:00  2018-03-31  REGULAR      04:00:00         0.0   \n",
       "3 2018-03-31 15:59:00  2018-03-31  REGULAR      04:00:00         0.0   \n",
       "4 2018-03-31 19:59:00  2018-03-31  REGULAR      04:00:00         0.0   \n",
       "\n",
       "   EXIT_DIFF        LAT        LONG ZIPCODE  \n",
       "0        3.0  40.762796  -73.967686   10022  \n",
       "1        0.0  40.762796  -73.967686   10022  \n",
       "2        2.0  40.762796  -73.967686   10022  \n",
       "3        0.0  40.762796  -73.967686   10022  \n",
       "4        0.0  40.762796  -73.967686   10022  "
      ]
     },
     "execution_count": 5,
     "metadata": {},
     "output_type": "execute_result"
    }
   ],
   "source": [
    "time_series_df.head()"
   ]
  },
  {
   "cell_type": "markdown",
   "metadata": {},
   "source": [
    "**ENTRIES per day at each subway station/line combination**"
   ]
  },
  {
   "cell_type": "code",
   "execution_count": 11,
   "metadata": {},
   "outputs": [],
   "source": [
    "grouping = ['STATION','LINENAME','DATE']"
   ]
  },
  {
   "cell_type": "code",
   "execution_count": 12,
   "metadata": {},
   "outputs": [],
   "source": [
    "daily_entries_per_station_line = time_series_df.groupby(by=grouping)['ENTRY_DIFF'].sum().reset_index()"
   ]
  },
  {
   "cell_type": "code",
   "execution_count": 13,
   "metadata": {},
   "outputs": [
    {
     "data": {
      "text/plain": [
       "(42953, 4)"
      ]
     },
     "execution_count": 13,
     "metadata": {},
     "output_type": "execute_result"
    }
   ],
   "source": [
    "daily_entries_per_station_line.shape"
   ]
  },
  {
   "cell_type": "code",
   "execution_count": 14,
   "metadata": {},
   "outputs": [
    {
     "data": {
      "text/plain": [
       "362547.0"
      ]
     },
     "execution_count": 14,
     "metadata": {},
     "output_type": "execute_result"
    }
   ],
   "source": [
    "daily_entries_per_station_line['ENTRY_DIFF'].max()"
   ]
  },
  {
   "cell_type": "code",
   "execution_count": 15,
   "metadata": {},
   "outputs": [
    {
     "data": {
      "text/plain": [
       "208"
      ]
     },
     "execution_count": 15,
     "metadata": {},
     "output_type": "execute_result"
    }
   ],
   "source": [
    "zero_mask_entries = (daily_entries_per_station_line.ENTRY_DIFF == 0)\n",
    "daily_entries_per_station_line[zero_mask_entries].shape[0]"
   ]
  },
  {
   "cell_type": "code",
   "execution_count": 16,
   "metadata": {},
   "outputs": [
    {
     "data": {
      "text/html": [
       "<div>\n",
       "<style scoped>\n",
       "    .dataframe tbody tr th:only-of-type {\n",
       "        vertical-align: middle;\n",
       "    }\n",
       "\n",
       "    .dataframe tbody tr th {\n",
       "        vertical-align: top;\n",
       "    }\n",
       "\n",
       "    .dataframe thead th {\n",
       "        text-align: right;\n",
       "    }\n",
       "</style>\n",
       "<table border=\"1\" class=\"dataframe\">\n",
       "  <thead>\n",
       "    <tr style=\"text-align: right;\">\n",
       "      <th></th>\n",
       "      <th>STATION</th>\n",
       "      <th>LINENAME</th>\n",
       "      <th>DATE</th>\n",
       "      <th>ENTRY_DIFF</th>\n",
       "    </tr>\n",
       "  </thead>\n",
       "  <tbody>\n",
       "    <tr>\n",
       "      <th>0</th>\n",
       "      <td>1 AV</td>\n",
       "      <td>L</td>\n",
       "      <td>2018-03-31</td>\n",
       "      <td>16546.0</td>\n",
       "    </tr>\n",
       "    <tr>\n",
       "      <th>1</th>\n",
       "      <td>1 AV</td>\n",
       "      <td>L</td>\n",
       "      <td>2018-04-01</td>\n",
       "      <td>12075.0</td>\n",
       "    </tr>\n",
       "    <tr>\n",
       "      <th>2</th>\n",
       "      <td>1 AV</td>\n",
       "      <td>L</td>\n",
       "      <td>2018-04-02</td>\n",
       "      <td>18415.0</td>\n",
       "    </tr>\n",
       "    <tr>\n",
       "      <th>3</th>\n",
       "      <td>1 AV</td>\n",
       "      <td>L</td>\n",
       "      <td>2018-04-03</td>\n",
       "      <td>19832.0</td>\n",
       "    </tr>\n",
       "    <tr>\n",
       "      <th>4</th>\n",
       "      <td>1 AV</td>\n",
       "      <td>L</td>\n",
       "      <td>2018-04-04</td>\n",
       "      <td>20644.0</td>\n",
       "    </tr>\n",
       "  </tbody>\n",
       "</table>\n",
       "</div>"
      ],
      "text/plain": [
       "  STATION LINENAME        DATE  ENTRY_DIFF\n",
       "0    1 AV        L  2018-03-31     16546.0\n",
       "1    1 AV        L  2018-04-01     12075.0\n",
       "2    1 AV        L  2018-04-02     18415.0\n",
       "3    1 AV        L  2018-04-03     19832.0\n",
       "4    1 AV        L  2018-04-04     20644.0"
      ]
     },
     "execution_count": 16,
     "metadata": {},
     "output_type": "execute_result"
    }
   ],
   "source": [
    "daily_entries_per_station_line.head()"
   ]
  },
  {
   "cell_type": "markdown",
   "metadata": {},
   "source": [
    "**EXITS per day at each subway station/line combination**"
   ]
  },
  {
   "cell_type": "code",
   "execution_count": 17,
   "metadata": {},
   "outputs": [],
   "source": [
    "daily_exits_per_station_line = time_series_df.groupby(by=grouping)['EXIT_DIFF'].sum().reset_index()"
   ]
  },
  {
   "cell_type": "code",
   "execution_count": 18,
   "metadata": {},
   "outputs": [
    {
     "data": {
      "text/plain": [
       "(42953, 4)"
      ]
     },
     "execution_count": 18,
     "metadata": {},
     "output_type": "execute_result"
    }
   ],
   "source": [
    "daily_exits_per_station_line.shape"
   ]
  },
  {
   "cell_type": "code",
   "execution_count": 19,
   "metadata": {},
   "outputs": [
    {
     "data": {
      "text/plain": [
       "454117.0"
      ]
     },
     "execution_count": 19,
     "metadata": {},
     "output_type": "execute_result"
    }
   ],
   "source": [
    "daily_exits_per_station_line['EXIT_DIFF'].max()"
   ]
  },
  {
   "cell_type": "code",
   "execution_count": 20,
   "metadata": {},
   "outputs": [
    {
     "data": {
      "text/plain": [
       "214"
      ]
     },
     "execution_count": 20,
     "metadata": {},
     "output_type": "execute_result"
    }
   ],
   "source": [
    "zero_mask_exits = (daily_exits_per_station_line.EXIT_DIFF == 0)\n",
    "daily_exits_per_station_line[zero_mask_exits].shape[0]"
   ]
  },
  {
   "cell_type": "code",
   "execution_count": 21,
   "metadata": {},
   "outputs": [
    {
     "data": {
      "text/html": [
       "<div>\n",
       "<style scoped>\n",
       "    .dataframe tbody tr th:only-of-type {\n",
       "        vertical-align: middle;\n",
       "    }\n",
       "\n",
       "    .dataframe tbody tr th {\n",
       "        vertical-align: top;\n",
       "    }\n",
       "\n",
       "    .dataframe thead th {\n",
       "        text-align: right;\n",
       "    }\n",
       "</style>\n",
       "<table border=\"1\" class=\"dataframe\">\n",
       "  <thead>\n",
       "    <tr style=\"text-align: right;\">\n",
       "      <th></th>\n",
       "      <th>STATION</th>\n",
       "      <th>LINENAME</th>\n",
       "      <th>DATE</th>\n",
       "      <th>EXIT_DIFF</th>\n",
       "    </tr>\n",
       "  </thead>\n",
       "  <tbody>\n",
       "    <tr>\n",
       "      <th>0</th>\n",
       "      <td>1 AV</td>\n",
       "      <td>L</td>\n",
       "      <td>2018-03-31</td>\n",
       "      <td>18089.0</td>\n",
       "    </tr>\n",
       "    <tr>\n",
       "      <th>1</th>\n",
       "      <td>1 AV</td>\n",
       "      <td>L</td>\n",
       "      <td>2018-04-01</td>\n",
       "      <td>13945.0</td>\n",
       "    </tr>\n",
       "    <tr>\n",
       "      <th>2</th>\n",
       "      <td>1 AV</td>\n",
       "      <td>L</td>\n",
       "      <td>2018-04-02</td>\n",
       "      <td>19708.0</td>\n",
       "    </tr>\n",
       "    <tr>\n",
       "      <th>3</th>\n",
       "      <td>1 AV</td>\n",
       "      <td>L</td>\n",
       "      <td>2018-04-03</td>\n",
       "      <td>22533.0</td>\n",
       "    </tr>\n",
       "    <tr>\n",
       "      <th>4</th>\n",
       "      <td>1 AV</td>\n",
       "      <td>L</td>\n",
       "      <td>2018-04-04</td>\n",
       "      <td>22280.0</td>\n",
       "    </tr>\n",
       "  </tbody>\n",
       "</table>\n",
       "</div>"
      ],
      "text/plain": [
       "  STATION LINENAME        DATE  EXIT_DIFF\n",
       "0    1 AV        L  2018-03-31    18089.0\n",
       "1    1 AV        L  2018-04-01    13945.0\n",
       "2    1 AV        L  2018-04-02    19708.0\n",
       "3    1 AV        L  2018-04-03    22533.0\n",
       "4    1 AV        L  2018-04-04    22280.0"
      ]
     },
     "execution_count": 21,
     "metadata": {},
     "output_type": "execute_result"
    }
   ],
   "source": [
    "daily_exits_per_station_line.head()"
   ]
  },
  {
   "cell_type": "markdown",
   "metadata": {},
   "source": [
    "**Merge daily entries and exits by station-line into a single data file**"
   ]
  },
  {
   "cell_type": "code",
   "execution_count": 34,
   "metadata": {},
   "outputs": [],
   "source": [
    "daily_station_line_counts = pd.merge(daily_entries_per_station_line, daily_exits_per_station_line, on=['STATION', 'LINENAME', 'DATE'])"
   ]
  },
  {
   "cell_type": "code",
   "execution_count": 35,
   "metadata": {},
   "outputs": [
    {
     "data": {
      "text/html": [
       "<div>\n",
       "<style scoped>\n",
       "    .dataframe tbody tr th:only-of-type {\n",
       "        vertical-align: middle;\n",
       "    }\n",
       "\n",
       "    .dataframe tbody tr th {\n",
       "        vertical-align: top;\n",
       "    }\n",
       "\n",
       "    .dataframe thead th {\n",
       "        text-align: right;\n",
       "    }\n",
       "</style>\n",
       "<table border=\"1\" class=\"dataframe\">\n",
       "  <thead>\n",
       "    <tr style=\"text-align: right;\">\n",
       "      <th></th>\n",
       "      <th>STATION</th>\n",
       "      <th>LINENAME</th>\n",
       "      <th>DATE</th>\n",
       "      <th>ENTRY_DIFF</th>\n",
       "      <th>EXIT_DIFF</th>\n",
       "    </tr>\n",
       "  </thead>\n",
       "  <tbody>\n",
       "    <tr>\n",
       "      <th>0</th>\n",
       "      <td>1 AV</td>\n",
       "      <td>L</td>\n",
       "      <td>2018-03-31</td>\n",
       "      <td>16546.0</td>\n",
       "      <td>18089.0</td>\n",
       "    </tr>\n",
       "    <tr>\n",
       "      <th>1</th>\n",
       "      <td>1 AV</td>\n",
       "      <td>L</td>\n",
       "      <td>2018-04-01</td>\n",
       "      <td>12075.0</td>\n",
       "      <td>13945.0</td>\n",
       "    </tr>\n",
       "    <tr>\n",
       "      <th>2</th>\n",
       "      <td>1 AV</td>\n",
       "      <td>L</td>\n",
       "      <td>2018-04-02</td>\n",
       "      <td>18415.0</td>\n",
       "      <td>19708.0</td>\n",
       "    </tr>\n",
       "    <tr>\n",
       "      <th>3</th>\n",
       "      <td>1 AV</td>\n",
       "      <td>L</td>\n",
       "      <td>2018-04-03</td>\n",
       "      <td>19832.0</td>\n",
       "      <td>22533.0</td>\n",
       "    </tr>\n",
       "    <tr>\n",
       "      <th>4</th>\n",
       "      <td>1 AV</td>\n",
       "      <td>L</td>\n",
       "      <td>2018-04-04</td>\n",
       "      <td>20644.0</td>\n",
       "      <td>22280.0</td>\n",
       "    </tr>\n",
       "  </tbody>\n",
       "</table>\n",
       "</div>"
      ],
      "text/plain": [
       "  STATION LINENAME        DATE  ENTRY_DIFF  EXIT_DIFF\n",
       "0    1 AV        L  2018-03-31     16546.0    18089.0\n",
       "1    1 AV        L  2018-04-01     12075.0    13945.0\n",
       "2    1 AV        L  2018-04-02     18415.0    19708.0\n",
       "3    1 AV        L  2018-04-03     19832.0    22533.0\n",
       "4    1 AV        L  2018-04-04     20644.0    22280.0"
      ]
     },
     "execution_count": 35,
     "metadata": {},
     "output_type": "execute_result"
    }
   ],
   "source": [
    "daily_station_line_counts.head()"
   ]
  },
  {
   "cell_type": "code",
   "execution_count": 36,
   "metadata": {},
   "outputs": [
    {
     "data": {
      "text/plain": [
       "(42953, 5)"
      ]
     },
     "execution_count": 36,
     "metadata": {},
     "output_type": "execute_result"
    }
   ],
   "source": [
    "daily_station_line_counts.shape"
   ]
  },
  {
   "cell_type": "markdown",
   "metadata": {},
   "source": [
    "**Remove days with zero ENTRIES or EXITS from the dataset. Assumption: subway stations that had 0 entries or exits for a full 24 hours are incorrect data or were closed, so removed**"
   ]
  },
  {
   "cell_type": "code",
   "execution_count": 37,
   "metadata": {},
   "outputs": [],
   "source": [
    "daily_station_line_counts= daily_station_line_counts[daily_station_line_counts.ENTRY_DIFF != 0]"
   ]
  },
  {
   "cell_type": "code",
   "execution_count": 38,
   "metadata": {},
   "outputs": [],
   "source": [
    "daily_station_line_counts= daily_station_line_counts[daily_station_line_counts.EXIT_DIFF != 0]"
   ]
  },
  {
   "cell_type": "code",
   "execution_count": 39,
   "metadata": {},
   "outputs": [
    {
     "data": {
      "text/plain": [
       "(42586, 5)"
      ]
     },
     "execution_count": 39,
     "metadata": {},
     "output_type": "execute_result"
    }
   ],
   "source": [
    "daily_station_line_counts.shape"
   ]
  },
  {
   "cell_type": "markdown",
   "metadata": {},
   "source": [
    "**Get summed daily entries and exits for each day, by Station and Line**"
   ]
  },
  {
   "cell_type": "code",
   "execution_count": 40,
   "metadata": {},
   "outputs": [],
   "source": [
    "daily_station_line_counts['DAILY_TOTAL'] = daily_station_line_counts['ENTRY_DIFF'] + daily_station_line_counts['EXIT_DIFF']"
   ]
  },
  {
   "cell_type": "code",
   "execution_count": 41,
   "metadata": {},
   "outputs": [
    {
     "data": {
      "text/html": [
       "<div>\n",
       "<style scoped>\n",
       "    .dataframe tbody tr th:only-of-type {\n",
       "        vertical-align: middle;\n",
       "    }\n",
       "\n",
       "    .dataframe tbody tr th {\n",
       "        vertical-align: top;\n",
       "    }\n",
       "\n",
       "    .dataframe thead th {\n",
       "        text-align: right;\n",
       "    }\n",
       "</style>\n",
       "<table border=\"1\" class=\"dataframe\">\n",
       "  <thead>\n",
       "    <tr style=\"text-align: right;\">\n",
       "      <th></th>\n",
       "      <th>STATION</th>\n",
       "      <th>LINENAME</th>\n",
       "      <th>DATE</th>\n",
       "      <th>ENTRY_DIFF</th>\n",
       "      <th>EXIT_DIFF</th>\n",
       "      <th>DAILY_TOTAL</th>\n",
       "    </tr>\n",
       "  </thead>\n",
       "  <tbody>\n",
       "    <tr>\n",
       "      <th>0</th>\n",
       "      <td>1 AV</td>\n",
       "      <td>L</td>\n",
       "      <td>2018-03-31</td>\n",
       "      <td>16546.0</td>\n",
       "      <td>18089.0</td>\n",
       "      <td>34635.0</td>\n",
       "    </tr>\n",
       "    <tr>\n",
       "      <th>1</th>\n",
       "      <td>1 AV</td>\n",
       "      <td>L</td>\n",
       "      <td>2018-04-01</td>\n",
       "      <td>12075.0</td>\n",
       "      <td>13945.0</td>\n",
       "      <td>26020.0</td>\n",
       "    </tr>\n",
       "    <tr>\n",
       "      <th>2</th>\n",
       "      <td>1 AV</td>\n",
       "      <td>L</td>\n",
       "      <td>2018-04-02</td>\n",
       "      <td>18415.0</td>\n",
       "      <td>19708.0</td>\n",
       "      <td>38123.0</td>\n",
       "    </tr>\n",
       "    <tr>\n",
       "      <th>3</th>\n",
       "      <td>1 AV</td>\n",
       "      <td>L</td>\n",
       "      <td>2018-04-03</td>\n",
       "      <td>19832.0</td>\n",
       "      <td>22533.0</td>\n",
       "      <td>42365.0</td>\n",
       "    </tr>\n",
       "    <tr>\n",
       "      <th>4</th>\n",
       "      <td>1 AV</td>\n",
       "      <td>L</td>\n",
       "      <td>2018-04-04</td>\n",
       "      <td>20644.0</td>\n",
       "      <td>22280.0</td>\n",
       "      <td>42924.0</td>\n",
       "    </tr>\n",
       "  </tbody>\n",
       "</table>\n",
       "</div>"
      ],
      "text/plain": [
       "  STATION LINENAME        DATE  ENTRY_DIFF  EXIT_DIFF  DAILY_TOTAL\n",
       "0    1 AV        L  2018-03-31     16546.0    18089.0      34635.0\n",
       "1    1 AV        L  2018-04-01     12075.0    13945.0      26020.0\n",
       "2    1 AV        L  2018-04-02     18415.0    19708.0      38123.0\n",
       "3    1 AV        L  2018-04-03     19832.0    22533.0      42365.0\n",
       "4    1 AV        L  2018-04-04     20644.0    22280.0      42924.0"
      ]
     },
     "execution_count": 41,
     "metadata": {},
     "output_type": "execute_result"
    }
   ],
   "source": [
    "daily_station_line_counts.head()"
   ]
  },
  {
   "cell_type": "code",
   "execution_count": 42,
   "metadata": {},
   "outputs": [
    {
     "data": {
      "text/plain": [
       "620725.0"
      ]
     },
     "execution_count": 42,
     "metadata": {},
     "output_type": "execute_result"
    }
   ],
   "source": [
    "daily_station_line_counts['DAILY_TOTAL'].max()"
   ]
  },
  {
   "cell_type": "markdown",
   "metadata": {},
   "source": [
    "**Save the daily totals by station-line file**"
   ]
  },
  {
   "cell_type": "code",
   "execution_count": 43,
   "metadata": {},
   "outputs": [],
   "source": [
    "with open('daily_station_line_counts.pickle', 'wb') as to_write:\n",
    "    pickle.dump(daily_station_line_counts, to_write)"
   ]
  },
  {
   "cell_type": "code",
   "execution_count": 44,
   "metadata": {},
   "outputs": [],
   "source": [
    "with open('daily_station_line_counts.pickle','rb') as read_file:\n",
    "    daily_station_line_counts = pickle.load(read_file)"
   ]
  },
  {
   "cell_type": "code",
   "execution_count": 45,
   "metadata": {},
   "outputs": [
    {
     "data": {
      "text/html": [
       "<div>\n",
       "<style scoped>\n",
       "    .dataframe tbody tr th:only-of-type {\n",
       "        vertical-align: middle;\n",
       "    }\n",
       "\n",
       "    .dataframe tbody tr th {\n",
       "        vertical-align: top;\n",
       "    }\n",
       "\n",
       "    .dataframe thead th {\n",
       "        text-align: right;\n",
       "    }\n",
       "</style>\n",
       "<table border=\"1\" class=\"dataframe\">\n",
       "  <thead>\n",
       "    <tr style=\"text-align: right;\">\n",
       "      <th></th>\n",
       "      <th>STATION</th>\n",
       "      <th>LINENAME</th>\n",
       "      <th>DATE</th>\n",
       "      <th>ENTRY_DIFF</th>\n",
       "      <th>EXIT_DIFF</th>\n",
       "      <th>DAILY_TOTAL</th>\n",
       "    </tr>\n",
       "  </thead>\n",
       "  <tbody>\n",
       "    <tr>\n",
       "      <th>0</th>\n",
       "      <td>1 AV</td>\n",
       "      <td>L</td>\n",
       "      <td>2018-03-31</td>\n",
       "      <td>16546.0</td>\n",
       "      <td>18089.0</td>\n",
       "      <td>34635.0</td>\n",
       "    </tr>\n",
       "    <tr>\n",
       "      <th>1</th>\n",
       "      <td>1 AV</td>\n",
       "      <td>L</td>\n",
       "      <td>2018-04-01</td>\n",
       "      <td>12075.0</td>\n",
       "      <td>13945.0</td>\n",
       "      <td>26020.0</td>\n",
       "    </tr>\n",
       "    <tr>\n",
       "      <th>2</th>\n",
       "      <td>1 AV</td>\n",
       "      <td>L</td>\n",
       "      <td>2018-04-02</td>\n",
       "      <td>18415.0</td>\n",
       "      <td>19708.0</td>\n",
       "      <td>38123.0</td>\n",
       "    </tr>\n",
       "    <tr>\n",
       "      <th>3</th>\n",
       "      <td>1 AV</td>\n",
       "      <td>L</td>\n",
       "      <td>2018-04-03</td>\n",
       "      <td>19832.0</td>\n",
       "      <td>22533.0</td>\n",
       "      <td>42365.0</td>\n",
       "    </tr>\n",
       "    <tr>\n",
       "      <th>4</th>\n",
       "      <td>1 AV</td>\n",
       "      <td>L</td>\n",
       "      <td>2018-04-04</td>\n",
       "      <td>20644.0</td>\n",
       "      <td>22280.0</td>\n",
       "      <td>42924.0</td>\n",
       "    </tr>\n",
       "  </tbody>\n",
       "</table>\n",
       "</div>"
      ],
      "text/plain": [
       "  STATION LINENAME        DATE  ENTRY_DIFF  EXIT_DIFF  DAILY_TOTAL\n",
       "0    1 AV        L  2018-03-31     16546.0    18089.0      34635.0\n",
       "1    1 AV        L  2018-04-01     12075.0    13945.0      26020.0\n",
       "2    1 AV        L  2018-04-02     18415.0    19708.0      38123.0\n",
       "3    1 AV        L  2018-04-03     19832.0    22533.0      42365.0\n",
       "4    1 AV        L  2018-04-04     20644.0    22280.0      42924.0"
      ]
     },
     "execution_count": 45,
     "metadata": {},
     "output_type": "execute_result"
    }
   ],
   "source": [
    "daily_station_line_counts.head()"
   ]
  },
  {
   "cell_type": "markdown",
   "metadata": {},
   "source": [
    "**Get total counts per station-line - over the entire season of April/May/June**"
   ]
  },
  {
   "cell_type": "code",
   "execution_count": 46,
   "metadata": {},
   "outputs": [],
   "source": [
    "total_spring_station_line_counts = daily_station_line_counts.groupby(by=['STATION', 'LINENAME'])['DAILY_TOTAL'].sum().reset_index()"
   ]
  },
  {
   "cell_type": "code",
   "execution_count": 47,
   "metadata": {},
   "outputs": [],
   "source": [
    "total_spring_station_line_counts.rename(columns={'DAILY_TOTAL': 'SPRING_TOTAL'}, inplace=True)"
   ]
  },
  {
   "cell_type": "code",
   "execution_count": 48,
   "metadata": {},
   "outputs": [
    {
     "data": {
      "text/html": [
       "<div>\n",
       "<style scoped>\n",
       "    .dataframe tbody tr th:only-of-type {\n",
       "        vertical-align: middle;\n",
       "    }\n",
       "\n",
       "    .dataframe tbody tr th {\n",
       "        vertical-align: top;\n",
       "    }\n",
       "\n",
       "    .dataframe thead th {\n",
       "        text-align: right;\n",
       "    }\n",
       "</style>\n",
       "<table border=\"1\" class=\"dataframe\">\n",
       "  <thead>\n",
       "    <tr style=\"text-align: right;\">\n",
       "      <th></th>\n",
       "      <th>STATION</th>\n",
       "      <th>LINENAME</th>\n",
       "      <th>SPRING_TOTAL</th>\n",
       "    </tr>\n",
       "  </thead>\n",
       "  <tbody>\n",
       "    <tr>\n",
       "      <th>312</th>\n",
       "      <td>GRD CNTRL-42 ST</td>\n",
       "      <td>4567S</td>\n",
       "      <td>21730974.0</td>\n",
       "    </tr>\n",
       "    <tr>\n",
       "      <th>89</th>\n",
       "      <td>34 ST-HERALD SQ</td>\n",
       "      <td>BDFMNQRW</td>\n",
       "      <td>17172214.0</td>\n",
       "    </tr>\n",
       "    <tr>\n",
       "      <th>93</th>\n",
       "      <td>34 ST-PENN STA</td>\n",
       "      <td>ACE</td>\n",
       "      <td>12255887.0</td>\n",
       "    </tr>\n",
       "    <tr>\n",
       "      <th>28</th>\n",
       "      <td>14 ST-UNION SQ</td>\n",
       "      <td>LNQR456W</td>\n",
       "      <td>11295947.0</td>\n",
       "    </tr>\n",
       "    <tr>\n",
       "      <th>102</th>\n",
       "      <td>42 ST-PORT AUTH</td>\n",
       "      <td>ACENQRS1237W</td>\n",
       "      <td>11058079.0</td>\n",
       "    </tr>\n",
       "    <tr>\n",
       "      <th>448</th>\n",
       "      <td>TIMES SQ-42 ST</td>\n",
       "      <td>1237ACENQRSW</td>\n",
       "      <td>10160010.0</td>\n",
       "    </tr>\n",
       "    <tr>\n",
       "      <th>302</th>\n",
       "      <td>FULTON ST</td>\n",
       "      <td>2345ACJZ</td>\n",
       "      <td>9358996.0</td>\n",
       "    </tr>\n",
       "    <tr>\n",
       "      <th>125</th>\n",
       "      <td>59 ST COLUMBUS</td>\n",
       "      <td>ABCD1</td>\n",
       "      <td>8620281.0</td>\n",
       "    </tr>\n",
       "    <tr>\n",
       "      <th>106</th>\n",
       "      <td>47-50 STS ROCK</td>\n",
       "      <td>BDFM</td>\n",
       "      <td>8532375.0</td>\n",
       "    </tr>\n",
       "    <tr>\n",
       "      <th>289</th>\n",
       "      <td>FLUSHING-MAIN</td>\n",
       "      <td>7</td>\n",
       "      <td>8442750.0</td>\n",
       "    </tr>\n",
       "  </tbody>\n",
       "</table>\n",
       "</div>"
      ],
      "text/plain": [
       "             STATION      LINENAME  SPRING_TOTAL\n",
       "312  GRD CNTRL-42 ST         4567S    21730974.0\n",
       "89   34 ST-HERALD SQ      BDFMNQRW    17172214.0\n",
       "93    34 ST-PENN STA           ACE    12255887.0\n",
       "28    14 ST-UNION SQ      LNQR456W    11295947.0\n",
       "102  42 ST-PORT AUTH  ACENQRS1237W    11058079.0\n",
       "448   TIMES SQ-42 ST  1237ACENQRSW    10160010.0\n",
       "302        FULTON ST      2345ACJZ     9358996.0\n",
       "125   59 ST COLUMBUS         ABCD1     8620281.0\n",
       "106   47-50 STS ROCK          BDFM     8532375.0\n",
       "289    FLUSHING-MAIN             7     8442750.0"
      ]
     },
     "execution_count": 48,
     "metadata": {},
     "output_type": "execute_result"
    }
   ],
   "source": [
    "total_spring_station_line_counts.sort_values(by=\"SPRING_TOTAL\", ascending=False).head(10)"
   ]
  }
 ],
 "metadata": {
  "kernelspec": {
   "display_name": "Python 3",
   "language": "python",
   "name": "python3"
  },
  "language_info": {
   "codemirror_mode": {
    "name": "ipython",
    "version": 3
   },
   "file_extension": ".py",
   "mimetype": "text/x-python",
   "name": "python",
   "nbconvert_exporter": "python",
   "pygments_lexer": "ipython3",
   "version": "3.6.5"
  }
 },
 "nbformat": 4,
 "nbformat_minor": 2
}
